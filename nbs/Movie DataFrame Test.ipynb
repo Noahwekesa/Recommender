{
 "cells": [
  {
   "cell_type": "code",
   "execution_count": 3,
   "id": "568ccef7-8148-4715-a614-ceec52c110fd",
   "metadata": {},
   "outputs": [],
   "source": [
    "import setup_django\n",
    "setup_django.init()"
   ]
  },
  {
   "cell_type": "code",
   "execution_count": 4,
   "id": "0fac1ba0-34bf-439b-8daf-d773790276ce",
   "metadata": {},
   "outputs": [],
   "source": [
    "from movies.models import Movie\n",
    "\n",
    "qs = Movie.objects.all().values('title', 'release_date', 'rating_avg', 'rating_count')"
   ]
  },
  {
   "cell_type": "code",
   "execution_count": 2,
   "id": "b65e9267-e154-4ec1-9a31-d8be6460e00f",
   "metadata": {},
   "outputs": [],
   "source": [
    "import pandas as pd"
   ]
  },
  {
   "cell_type": "code",
   "execution_count": 5,
   "id": "58bbb597",
   "metadata": {},
   "outputs": [
    {
     "data": {
      "text/html": [
       "<div>\n",
       "<style scoped>\n",
       "    .dataframe tbody tr th:only-of-type {\n",
       "        vertical-align: middle;\n",
       "    }\n",
       "\n",
       "    .dataframe tbody tr th {\n",
       "        vertical-align: top;\n",
       "    }\n",
       "\n",
       "    .dataframe thead th {\n",
       "        text-align: right;\n",
       "    }\n",
       "</style>\n",
       "<table border=\"1\" class=\"dataframe\">\n",
       "  <thead>\n",
       "    <tr style=\"text-align: right;\">\n",
       "      <th></th>\n",
       "      <th>title</th>\n",
       "      <th>release_date</th>\n",
       "      <th>rating_avg</th>\n",
       "      <th>rating_count</th>\n",
       "    </tr>\n",
       "  </thead>\n",
       "  <tbody>\n",
       "    <tr>\n",
       "      <th>0</th>\n",
       "      <td>Ariel</td>\n",
       "      <td>1988-10-21</td>\n",
       "      <td>None</td>\n",
       "      <td>0.0</td>\n",
       "    </tr>\n",
       "    <tr>\n",
       "      <th>1</th>\n",
       "      <td>Shadows in Paradise</td>\n",
       "      <td>1986-10-16</td>\n",
       "      <td>None</td>\n",
       "      <td>0.0</td>\n",
       "    </tr>\n",
       "    <tr>\n",
       "      <th>2</th>\n",
       "      <td>Four Rooms</td>\n",
       "      <td>1995-12-09</td>\n",
       "      <td>None</td>\n",
       "      <td>0.0</td>\n",
       "    </tr>\n",
       "    <tr>\n",
       "      <th>3</th>\n",
       "      <td>Judgment Night</td>\n",
       "      <td>1993-10-15</td>\n",
       "      <td>None</td>\n",
       "      <td>0.0</td>\n",
       "    </tr>\n",
       "    <tr>\n",
       "      <th>4</th>\n",
       "      <td>Star Wars</td>\n",
       "      <td>1977-05-25</td>\n",
       "      <td>None</td>\n",
       "      <td>0.0</td>\n",
       "    </tr>\n",
       "    <tr>\n",
       "      <th>5</th>\n",
       "      <td>Finding Nemo</td>\n",
       "      <td>2003-05-30</td>\n",
       "      <td>None</td>\n",
       "      <td>0.0</td>\n",
       "    </tr>\n",
       "    <tr>\n",
       "      <th>6</th>\n",
       "      <td>Forrest Gump</td>\n",
       "      <td>1994-07-06</td>\n",
       "      <td>None</td>\n",
       "      <td>0.0</td>\n",
       "    </tr>\n",
       "    <tr>\n",
       "      <th>7</th>\n",
       "      <td>American Beauty</td>\n",
       "      <td>1999-09-15</td>\n",
       "      <td>None</td>\n",
       "      <td>0.0</td>\n",
       "    </tr>\n",
       "    <tr>\n",
       "      <th>8</th>\n",
       "      <td>Citizen Kane</td>\n",
       "      <td>1941-04-30</td>\n",
       "      <td>None</td>\n",
       "      <td>0.0</td>\n",
       "    </tr>\n",
       "    <tr>\n",
       "      <th>9</th>\n",
       "      <td>Dancer in the Dark</td>\n",
       "      <td>2000-05-17</td>\n",
       "      <td>None</td>\n",
       "      <td>0.0</td>\n",
       "    </tr>\n",
       "  </tbody>\n",
       "</table>\n",
       "</div>"
      ],
      "text/plain": [
       "                 title release_date rating_avg  rating_count\n",
       "0                Ariel   1988-10-21       None           0.0\n",
       "1  Shadows in Paradise   1986-10-16       None           0.0\n",
       "2           Four Rooms   1995-12-09       None           0.0\n",
       "3       Judgment Night   1993-10-15       None           0.0\n",
       "4            Star Wars   1977-05-25       None           0.0\n",
       "5         Finding Nemo   2003-05-30       None           0.0\n",
       "6         Forrest Gump   1994-07-06       None           0.0\n",
       "7      American Beauty   1999-09-15       None           0.0\n",
       "8         Citizen Kane   1941-04-30       None           0.0\n",
       "9   Dancer in the Dark   2000-05-17       None           0.0"
      ]
     },
     "execution_count": 5,
     "metadata": {},
     "output_type": "execute_result"
    }
   ],
   "source": [
    "df = pd.DataFrame(qs)\n",
    "df.head(n=10)"
   ]
  }
 ],
 "metadata": {
  "kernelspec": {
   "display_name": "Python 3 (ipykernel)",
   "language": "python",
   "name": "python3"
  },
  "language_info": {
   "codemirror_mode": {
    "name": "ipython",
    "version": 3
   },
   "file_extension": ".py",
   "mimetype": "text/x-python",
   "name": "python",
   "nbconvert_exporter": "python",
   "pygments_lexer": "ipython3",
   "version": "3.12.4"
  }
 },
 "nbformat": 4,
 "nbformat_minor": 5
}
